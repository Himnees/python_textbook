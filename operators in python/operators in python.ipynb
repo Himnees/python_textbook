{
 "cells": [
  {
   "cell_type": "code",
   "execution_count": 3,
   "id": "c2234e52",
   "metadata": {},
   "outputs": [
    {
     "name": "stdout",
     "output_type": "stream",
     "text": [
      "False\n",
      "False\n",
      "True\n",
      "True\n",
      "False\n",
      "True\n",
      "No\n",
      "True\n",
      "False\n",
      "False\n"
     ]
    }
   ],
   "source": [
    "# Relational operator\n",
    "a=10\n",
    "b=20\n",
    "print(a>b) # '>' greater than operator. If the value of left operand is greater than the value of right operand, it gives True else it gives False.\n",
    "print(a>=b)# '>=' greater than or equal operator. If the value of left operand is greater than or equal to the value of right operand, it gives True else it gives False.\n",
    "print(a<b) # '>'lesser than operator. If the value of left operand is lesser than the value of right operand, it gives True else it gives False.\n",
    "print(a<=b) # '>=' lesser than or equal operator. If the value of left operand is lesser than or equal to the value of right operand, it gives True else it gives False.\n",
    "print(a==b) # '==' Equals operator. If the value of left operand is equal to the value of right operand, it gives True else False.\n",
    "print(a!=b) # '!=' Not Equals operator. If the value of left operand is not equal to the value of right operand, it gives True else False.\n",
    "if (a>b):\n",
    "    print(\"Yes\")\n",
    "else:\n",
    "    print(\"No\")\n",
    "x=15\n",
    "print(10<x<20)\n",
    "print(10>=x<20)\n",
    "print(10<x>20)"
   ]
  },
  {
   "cell_type": "code",
   "execution_count": null,
   "id": "ce9b2d9b",
   "metadata": {},
   "outputs": [],
   "source": []
  }
 ],
 "metadata": {
  "kernelspec": {
   "display_name": "Python 3 (ipykernel)",
   "language": "python",
   "name": "python3"
  },
  "language_info": {
   "codemirror_mode": {
    "name": "ipython",
    "version": 3
   },
   "file_extension": ".py",
   "mimetype": "text/x-python",
   "name": "python",
   "nbconvert_exporter": "python",
   "pygments_lexer": "ipython3",
   "version": "3.11.3"
  }
 },
 "nbformat": 4,
 "nbformat_minor": 5
}
